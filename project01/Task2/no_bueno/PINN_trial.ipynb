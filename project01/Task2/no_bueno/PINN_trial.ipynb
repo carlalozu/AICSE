{
 "cells": [
  {
   "cell_type": "code",
   "execution_count": null,
   "metadata": {},
   "outputs": [],
   "source": [
    "%load_ext autoreload\n",
    "%autoreload 2"
   ]
  },
  {
   "cell_type": "code",
   "execution_count": null,
   "metadata": {},
   "outputs": [],
   "source": [
    "import torch \n",
    "from pinns_phase import Pinns, PinnLaterPhase\n",
    "import matplotlib.pyplot as plt\n"
   ]
  },
  {
   "cell_type": "code",
   "execution_count": null,
   "metadata": {},
   "outputs": [],
   "source": [
    "kwargs = {\n",
    "    \"alpha_f\" : 0.005,\n",
    "    \"h_f\" : 5,\n",
    "    \"T_hot\" : 4,\n",
    "    \"T0\" : 1,\n",
    "    \"T_cold\" : 1,\n",
    "}\n",
    "\n",
    "n_int = 128\n",
    "n_sb = 64\n",
    "n_tb = 64\n",
    "\n",
    "pins_phases = []\n",
    "hists_phases = []"
   ]
  },
  {
   "cell_type": "code",
   "execution_count": null,
   "metadata": {},
   "outputs": [],
   "source": [
    "pinn = Pinns(n_int, n_sb, n_tb, 0, 1, **kwargs)\n",
    "hist = pinn.fit(num_epochs=1, max_iter=500, verbose=True)\n",
    "\n",
    "pins_phases.append(pinn)\n",
    "hists_phases.append(hist)"
   ]
  },
  {
   "cell_type": "code",
   "execution_count": null,
   "metadata": {},
   "outputs": [],
   "source": [
    "pinn.plot()"
   ]
  },
  {
   "cell_type": "code",
   "execution_count": null,
   "metadata": {},
   "outputs": [],
   "source": [
    "pinn."
   ]
  },
  {
   "cell_type": "code",
   "execution_count": null,
   "metadata": {},
   "outputs": [],
   "source": [
    "for i in range(1, 4):\n",
    "    t0 = i\n",
    "    tf = i+1\n",
    "\n",
    "    old_pinn = pins_phases[i-1]\n",
    "    new_pinn = PinnLaterPhase(n_int, n_sb, n_tb, t0, tf, old_pinn, **kwargs)\n",
    "    hist = new_pinn.fit(num_epochs=1, max_iter=5000, verbose=True)\n",
    "    pins_phases.append(new_pinn)\n",
    "    # torch.save(new_pinn.approximate_solution.state_dict(), f'saved_models/pinn_{t0}.pth')\n"
   ]
  },
  {
   "cell_type": "code",
   "execution_count": null,
   "metadata": {},
   "outputs": [],
   "source": [
    "for i in range(4, 6):\n",
    "    t0 = i\n",
    "    tf = i+1\n",
    "\n",
    "    old_pinn = pins_phases[i-1]\n",
    "    new_pinn = PinnLaterPhase(n_int, n_sb, n_tb, t0, tf, old_pinn, **kwargs)\n",
    "    print(f'##############################  Phase {t0}  ##############################')\n",
    "    hist = new_pinn.fit(num_epochs=1, max_iter=5000, verbose=True)\n",
    "    pins_phases.append(new_pinn)\n",
    "    hists_phases.append(hist)\n",
    "    torch.save(new_pinn.approximate_solution.state_dict(), f'saved_models/pinn_{t0}.pth')\n"
   ]
  },
  {
   "cell_type": "code",
   "execution_count": null,
   "metadata": {},
   "outputs": [],
   "source": [
    "outputs_tfs = []\n",
    "outputs_tss = []\n",
    "inputs_ = []\n",
    "for pinn in pins_phases:\n",
    "    inputs = pinn.convert(pinn.soboleng.draw(5000))\n",
    "    output_tf = pinn.approximate_solution(inputs)\n",
    "    output_ts = pinn.approximate_coefficient(inputs)\n",
    "\n",
    "    inputs_.append(inputs)\n",
    "    outputs_tfs.append(output_tf)\n",
    "    outputs_tss.append(output_ts)\n",
    "\n",
    "inputs = torch.cat(inputs_)\n",
    "outputs_tf = torch.cat(outputs_tfs)\n",
    "outputs_ts = torch.cat(outputs_tss)\n",
    "\n",
    "output = torch.cat([outputs_tf, outputs_ts], 1)"
   ]
  },
  {
   "cell_type": "code",
   "execution_count": null,
   "metadata": {},
   "outputs": [],
   "source": [
    "\n",
    "labels = [\"T_f\", \"T_s\"]\n",
    "_, axs = plt.subplots(1, 2, figsize=(16, 6), dpi=100)\n",
    "# lims = [(1, 4), (1, 3)]\n",
    "for i in range(2):\n",
    "    im = axs[i].scatter(\n",
    "        inputs[:, 0].detach(),\n",
    "        inputs[:, 1].detach(),\n",
    "        c=output[:, i].detach(),\n",
    "        cmap=\"jet\",\n",
    "        # clim=lims[i]\n",
    "    )\n",
    "    axs[i].set_xlabel(\"t\")\n",
    "    axs[i].set_ylabel(\"x\")\n",
    "    axs[i].grid(True, which=\"both\", ls=\":\")\n",
    "    axs[i].set_title(f\"Approximate Solution {labels[i]}\")\n",
    "    plt.colorbar(im, ax=axs[i])\n",
    "plt.show()"
   ]
  },
  {
   "cell_type": "code",
   "execution_count": null,
   "metadata": {},
   "outputs": [],
   "source": [
    "pins_phases[4].plot_reference()"
   ]
  },
  {
   "cell_type": "code",
   "execution_count": null,
   "metadata": {},
   "outputs": [],
   "source": [
    "pins_phases[4].plot()"
   ]
  },
  {
   "cell_type": "code",
   "execution_count": null,
   "metadata": {},
   "outputs": [],
   "source": []
  }
 ],
 "metadata": {
  "kernelspec": {
   "display_name": "Python 3",
   "language": "python",
   "name": "python3"
  },
  "language_info": {
   "codemirror_mode": {
    "name": "ipython",
    "version": 3
   },
   "file_extension": ".py",
   "mimetype": "text/x-python",
   "name": "python",
   "nbconvert_exporter": "python",
   "pygments_lexer": "ipython3",
   "version": "3.9.15"
  }
 },
 "nbformat": 4,
 "nbformat_minor": 2
}
