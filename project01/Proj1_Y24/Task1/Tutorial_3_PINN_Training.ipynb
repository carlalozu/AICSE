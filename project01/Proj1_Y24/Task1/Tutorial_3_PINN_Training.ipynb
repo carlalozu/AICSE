{
  "cells": [
    {
      "cell_type": "code",
      "execution_count": 1,
      "metadata": {},
      "outputs": [],
      "source": [
        "%load_ext autoreload\n",
        "%autoreload 2"
      ]
    },
    {
      "cell_type": "markdown",
      "metadata": {
        "id": "6u_j73SUfQxG",
        "pycharm": {
          "name": "#%% md\n"
        }
      },
      "source": [
        "## Physics Informed Neural Networks to Approximate Solution of PDEs"
      ]
    },
    {
      "cell_type": "code",
      "execution_count": 7,
      "metadata": {
        "id": "NOPdRWmOfQxI",
        "pycharm": {
          "name": "#%%\n"
        }
      },
      "outputs": [],
      "source": [
        "from pinn import NNAnsatz, PINNTrainer\n",
        "import matplotlib.pyplot as plt\n",
        "import numpy as np\n",
        "import pandas as pd"
      ]
    },
    {
      "cell_type": "markdown",
      "metadata": {
        "id": "_KRlLw7VXn-6"
      },
      "source": [
        "# Your task: Solve the system of equations using PINNs\n",
        "\n",
        "System of two linear reaction-convection-diffusion equations\n",
        "\n",
        "You will have to implement the following\n",
        "1. initialize the approximate neural network solution\n",
        "2. implement the functions add interior points, add temporal boundary points,\n",
        "   and add spatial boundary points; \n",
        "3. implement the function apply initial condition;\n",
        "4. implement the function apply boundary conditions;\n",
        "5. implement the function compute pde residuals;\n",
        "6. train the model.\n",
        "\n",
        "\n",
        "\n",
        "\n",
        "\n",
        "\n",
        "\n"
      ]
    },
    {
      "cell_type": "markdown",
      "metadata": {
        "id": "EGxg0CzIZBw7"
      },
      "source": [
        "# Setting up the training data\n",
        "\n",
        "Just familiarize yourself with how we generate collocation points for the different types of residuals."
      ]
    },
    {
      "cell_type": "code",
      "execution_count": null,
      "metadata": {},
      "outputs": [],
      "source": [
        "alpha_f =0.05 \n",
        "h_f =5 \n",
        "t_hot =4 \n",
        "u_f =1\n",
        "alpha_s = 0.08\n",
        "h_s = 6\n",
        "t0 = 1"
      ]
    },
    {
      "cell_type": "code",
      "execution_count": 4,
      "metadata": {
        "id": "M3ug4ztBfQxM",
        "pycharm": {
          "name": "#%%\n"
        }
      },
      "outputs": [],
      "source": [
        "# Solve the heat equation:\n",
        "# u_t = u_xx, (t,x) in [0, 0.1]x[-1,1]\n",
        "# with zero dirichlet BC and\n",
        "# u(x,0)= -sin(pi * x).\n",
        "\n",
        "n_int = 256\n",
        "n_sb = 64\n",
        "n_tb = 64\n",
        "\n",
        "pinn = PINNTrainer(n_int, n_sb, n_tb)"
      ]
    },
    {
      "cell_type": "code",
      "execution_count": 33,
      "metadata": {},
      "outputs": [],
      "source": [
        "my_data = np.genfromtxt('SubExample.csv', delimiter=',', skip_header=1)"
      ]
    },
    {
      "cell_type": "code",
      "execution_count": 38,
      "metadata": {},
      "outputs": [],
      "source": [
        "input_int  = torch.Tensor(my_data[:,0:2])"
      ]
    },
    {
      "cell_type": "code",
      "execution_count": 41,
      "metadata": {},
      "outputs": [
        {
          "data": {
            "text/plain": [
              "100000"
            ]
          },
          "execution_count": 41,
          "metadata": {},
          "output_type": "execute_result"
        }
      ],
      "source": [
        "my_data.shape[0]\n"
      ]
    },
    {
      "cell_type": "code",
      "execution_count": 26,
      "metadata": {},
      "outputs": [],
      "source": [
        "import torch\n",
        "torch_data = torch.Tensor(data_train[['t', 'x']].values)"
      ]
    },
    {
      "cell_type": "code",
      "execution_count": 27,
      "metadata": {},
      "outputs": [
        {
          "data": {
            "text/plain": [
              "tensor([[0.6241, 0.8950],\n",
              "        [0.7835, 0.7780],\n",
              "        [0.3981, 0.4690],\n",
              "        ...,\n",
              "        [0.7189, 0.1000],\n",
              "        [0.9540, 0.2470],\n",
              "        [0.4636, 0.7400]])"
            ]
          },
          "execution_count": 27,
          "metadata": {},
          "output_type": "execute_result"
        }
      ],
      "source": [
        "torch_data"
      ]
    },
    {
      "cell_type": "code",
      "execution_count": 28,
      "metadata": {},
      "outputs": [
        {
          "data": {
            "text/plain": [
              "tensor([[ 5.2734e-03, -1.6602e-01],\n",
              "        [ 3.0527e-01,  8.3398e-01],\n",
              "        [ 4.5527e-01, -6.6602e-01],\n",
              "        [ 1.5527e-01,  3.3398e-01],\n",
              "        [ 2.3027e-01, -9.1602e-01],\n",
              "        [ 5.3027e-01,  8.3984e-02],\n",
              "        [ 3.8027e-01, -4.1602e-01],\n",
              "        [ 8.0273e-02,  5.8398e-01],\n",
              "        [ 1.1777e-01, -5.4102e-01],\n",
              "        [ 4.1777e-01,  4.5898e-01],\n",
              "        [ 5.6777e-01, -4.1016e-02],\n",
              "        [ 2.6777e-01,  9.5898e-01],\n",
              "        [ 1.9277e-01, -2.9102e-01],\n",
              "        [ 4.9277e-01,  7.0898e-01],\n",
              "        [ 3.4277e-01, -7.9102e-01],\n",
              "        [ 4.2773e-02,  2.0898e-01],\n",
              "        [ 6.1523e-02, -8.5352e-01],\n",
              "        [ 3.6152e-01,  1.4648e-01],\n",
              "        [ 5.1152e-01, -3.5352e-01],\n",
              "        [ 2.1152e-01,  6.4648e-01],\n",
              "        [ 2.8652e-01, -1.0352e-01],\n",
              "        [ 5.8652e-01,  8.9648e-01],\n",
              "        [ 4.3652e-01, -6.0352e-01],\n",
              "        [ 1.3652e-01,  3.9648e-01],\n",
              "        [ 9.9023e-02, -4.7852e-01],\n",
              "        [ 3.9902e-01,  5.2148e-01],\n",
              "        [ 5.4902e-01, -9.7852e-01],\n",
              "        [ 2.4902e-01,  2.1484e-02],\n",
              "        [ 1.7402e-01, -7.2852e-01],\n",
              "        [ 4.7402e-01,  2.7148e-01],\n",
              "        [ 3.2402e-01, -2.2852e-01],\n",
              "        [ 2.4023e-02,  7.7148e-01],\n",
              "        [ 3.3398e-02, -6.3477e-01],\n",
              "        [ 3.3340e-01,  3.6523e-01],\n",
              "        [ 4.8340e-01, -1.3477e-01],\n",
              "        [ 1.8340e-01,  8.6523e-01],\n",
              "        [ 2.5840e-01, -3.8477e-01],\n",
              "        [ 5.5840e-01,  6.1523e-01],\n",
              "        [ 4.0840e-01, -8.8477e-01],\n",
              "        [ 1.0840e-01,  1.1523e-01],\n",
              "        [ 1.4590e-01, -9.7656e-03],\n",
              "        [ 4.4590e-01,  9.9023e-01],\n",
              "        [ 5.9590e-01, -5.0977e-01],\n",
              "        [ 2.9590e-01,  4.9023e-01],\n",
              "        [ 2.2090e-01, -7.5977e-01],\n",
              "        [ 5.2090e-01,  2.4023e-01],\n",
              "        [ 3.7090e-01, -2.5977e-01],\n",
              "        [ 7.0898e-02,  7.4023e-01],\n",
              "        [ 5.2148e-02, -3.2227e-01],\n",
              "        [ 3.5215e-01,  6.7773e-01],\n",
              "        [ 5.0215e-01, -8.2227e-01],\n",
              "        [ 2.0215e-01,  1.7773e-01],\n",
              "        [ 2.7715e-01, -5.7227e-01],\n",
              "        [ 5.7715e-01,  4.2773e-01],\n",
              "        [ 4.2715e-01, -7.2266e-02],\n",
              "        [ 1.2715e-01,  9.2773e-01],\n",
              "        [ 8.9648e-02, -9.4727e-01],\n",
              "        [ 3.8965e-01,  5.2734e-02],\n",
              "        [ 5.3965e-01, -4.4727e-01],\n",
              "        [ 2.3965e-01,  5.5273e-01],\n",
              "        [ 1.6465e-01, -1.9727e-01],\n",
              "        [ 4.6465e-01,  8.0273e-01],\n",
              "        [ 3.1465e-01, -6.9727e-01],\n",
              "        [ 1.4648e-02,  3.0273e-01],\n",
              "        [ 9.9609e-03, -9.0039e-01],\n",
              "        [ 3.0996e-01,  9.9609e-02],\n",
              "        [ 4.5996e-01, -4.0039e-01],\n",
              "        [ 1.5996e-01,  5.9961e-01],\n",
              "        [ 2.3496e-01, -1.5039e-01],\n",
              "        [ 5.3496e-01,  8.4961e-01],\n",
              "        [ 3.8496e-01, -6.5039e-01],\n",
              "        [ 8.4961e-02,  3.4961e-01],\n",
              "        [ 1.2246e-01, -2.7539e-01],\n",
              "        [ 4.2246e-01,  7.2461e-01],\n",
              "        [ 5.7246e-01, -7.7539e-01],\n",
              "        [ 2.7246e-01,  2.2461e-01],\n",
              "        [ 1.9746e-01, -5.2539e-01],\n",
              "        [ 4.9746e-01,  4.7461e-01],\n",
              "        [ 3.4746e-01, -2.5391e-02],\n",
              "        [ 4.7461e-02,  9.7461e-01],\n",
              "        [ 6.6211e-02, -8.7891e-02],\n",
              "        [ 3.6621e-01,  9.1211e-01],\n",
              "        [ 5.1621e-01, -5.8789e-01],\n",
              "        [ 2.1621e-01,  4.1211e-01],\n",
              "        [ 2.9121e-01, -8.3789e-01],\n",
              "        [ 5.9121e-01,  1.6211e-01],\n",
              "        [ 4.4121e-01, -3.3789e-01],\n",
              "        [ 1.4121e-01,  6.6211e-01],\n",
              "        [ 1.0371e-01, -7.1289e-01],\n",
              "        [ 4.0371e-01,  2.8711e-01],\n",
              "        [ 5.5371e-01, -2.1289e-01],\n",
              "        [ 2.5371e-01,  7.8711e-01],\n",
              "        [ 1.7871e-01, -4.6289e-01],\n",
              "        [ 4.7871e-01,  5.3711e-01],\n",
              "        [ 3.2871e-01, -9.6289e-01],\n",
              "        [ 2.8711e-02,  3.7109e-02],\n",
              "        [ 1.9336e-02, -4.3164e-01],\n",
              "        [ 3.1934e-01,  5.6836e-01],\n",
              "        [ 4.6934e-01, -9.3164e-01],\n",
              "        [ 1.6934e-01,  6.8359e-02],\n",
              "        [ 2.4434e-01, -6.8164e-01],\n",
              "        [ 5.4434e-01,  3.1836e-01],\n",
              "        [ 3.9434e-01, -1.8164e-01],\n",
              "        [ 9.4336e-02,  8.1836e-01],\n",
              "        [ 1.3184e-01, -8.0664e-01],\n",
              "        [ 4.3184e-01,  1.9336e-01],\n",
              "        [ 5.8184e-01, -3.0664e-01],\n",
              "        [ 2.8184e-01,  6.9336e-01],\n",
              "        [ 2.0684e-01, -5.6641e-02],\n",
              "        [ 5.0684e-01,  9.4336e-01],\n",
              "        [ 3.5684e-01, -5.5664e-01],\n",
              "        [ 5.6836e-02,  4.4336e-01],\n",
              "        [ 3.8086e-02, -6.1914e-01],\n",
              "        [ 3.3809e-01,  3.8086e-01],\n",
              "        [ 4.8809e-01, -1.1914e-01],\n",
              "        [ 1.8809e-01,  8.8086e-01],\n",
              "        [ 2.6309e-01, -3.6914e-01],\n",
              "        [ 5.6309e-01,  6.3086e-01],\n",
              "        [ 4.1309e-01, -8.6914e-01],\n",
              "        [ 1.1309e-01,  1.3086e-01],\n",
              "        [ 7.5586e-02, -2.4414e-01],\n",
              "        [ 3.7559e-01,  7.5586e-01],\n",
              "        [ 5.2559e-01, -7.4414e-01],\n",
              "        [ 2.2559e-01,  2.5586e-01],\n",
              "        [ 1.5059e-01, -9.9414e-01],\n",
              "        [ 4.5059e-01,  5.8594e-03],\n",
              "        [ 3.0059e-01, -4.9414e-01],\n",
              "        [ 5.8594e-04,  5.0586e-01],\n",
              "        [ 8.7891e-04, -2.4707e-01],\n",
              "        [ 3.0088e-01,  7.5293e-01],\n",
              "        [ 4.5088e-01, -7.4707e-01],\n",
              "        [ 1.5088e-01,  2.5293e-01],\n",
              "        [ 2.2588e-01, -9.9707e-01],\n",
              "        [ 5.2588e-01,  2.9297e-03],\n",
              "        [ 3.7588e-01, -4.9707e-01],\n",
              "        [ 7.5879e-02,  5.0293e-01],\n",
              "        [ 1.1338e-01, -6.2207e-01],\n",
              "        [ 4.1338e-01,  3.7793e-01],\n",
              "        [ 5.6338e-01, -1.2207e-01],\n",
              "        [ 2.6338e-01,  8.7793e-01],\n",
              "        [ 1.8838e-01, -3.7207e-01],\n",
              "        [ 4.8838e-01,  6.2793e-01],\n",
              "        [ 3.3838e-01, -8.7207e-01],\n",
              "        [ 3.8379e-02,  1.2793e-01],\n",
              "        [ 5.7129e-02, -8.0957e-01],\n",
              "        [ 3.5713e-01,  1.9043e-01],\n",
              "        [ 5.0713e-01, -3.0957e-01],\n",
              "        [ 2.0713e-01,  6.9043e-01],\n",
              "        [ 2.8213e-01, -5.9570e-02],\n",
              "        [ 5.8213e-01,  9.4043e-01],\n",
              "        [ 4.3213e-01, -5.5957e-01],\n",
              "        [ 1.3213e-01,  4.4043e-01],\n",
              "        [ 9.4629e-02, -4.3457e-01],\n",
              "        [ 3.9463e-01,  5.6543e-01],\n",
              "        [ 5.4463e-01, -9.3457e-01],\n",
              "        [ 2.4463e-01,  6.5430e-02],\n",
              "        [ 1.6963e-01, -6.8457e-01],\n",
              "        [ 4.6963e-01,  3.1543e-01],\n",
              "        [ 3.1963e-01, -1.8457e-01],\n",
              "        [ 1.9629e-02,  8.1543e-01],\n",
              "        [ 2.9004e-02, -7.1582e-01],\n",
              "        [ 3.2900e-01,  2.8418e-01],\n",
              "        [ 4.7900e-01, -2.1582e-01],\n",
              "        [ 1.7900e-01,  7.8418e-01],\n",
              "        [ 2.5400e-01, -4.6582e-01],\n",
              "        [ 5.5400e-01,  5.3418e-01],\n",
              "        [ 4.0400e-01, -9.6582e-01],\n",
              "        [ 1.0400e-01,  3.4180e-02],\n",
              "        [ 1.4150e-01, -9.0820e-02],\n",
              "        [ 4.4150e-01,  9.0918e-01],\n",
              "        [ 5.9150e-01, -5.9082e-01],\n",
              "        [ 2.9150e-01,  4.0918e-01],\n",
              "        [ 2.1650e-01, -8.4082e-01],\n",
              "        [ 5.1650e-01,  1.5918e-01],\n",
              "        [ 3.6650e-01, -3.4082e-01],\n",
              "        [ 6.6504e-02,  6.5918e-01],\n",
              "        [ 4.7754e-02, -2.7832e-01],\n",
              "        [ 3.4775e-01,  7.2168e-01],\n",
              "        [ 4.9775e-01, -7.7832e-01],\n",
              "        [ 1.9775e-01,  2.2168e-01],\n",
              "        [ 2.7275e-01, -5.2832e-01],\n",
              "        [ 5.7275e-01,  4.7168e-01],\n",
              "        [ 4.2275e-01, -2.8320e-02],\n",
              "        [ 1.2275e-01,  9.7168e-01],\n",
              "        [ 8.5254e-02, -9.0332e-01],\n",
              "        [ 3.8525e-01,  9.6680e-02],\n",
              "        [ 5.3525e-01, -4.0332e-01],\n",
              "        [ 2.3525e-01,  5.9668e-01],\n",
              "        [ 1.6025e-01, -1.5332e-01],\n",
              "        [ 4.6025e-01,  8.4668e-01],\n",
              "        [ 3.1025e-01, -6.5332e-01],\n",
              "        [ 1.0254e-02,  3.4668e-01],\n",
              "        [ 1.4941e-02, -9.5020e-01],\n",
              "        [ 3.1494e-01,  4.9805e-02],\n",
              "        [ 4.6494e-01, -4.5020e-01],\n",
              "        [ 1.6494e-01,  5.4980e-01],\n",
              "        [ 2.3994e-01, -2.0020e-01],\n",
              "        [ 5.3994e-01,  7.9980e-01],\n",
              "        [ 3.8994e-01, -7.0020e-01],\n",
              "        [ 8.9941e-02,  2.9980e-01],\n",
              "        [ 1.2744e-01, -3.2520e-01],\n",
              "        [ 4.2744e-01,  6.7480e-01],\n",
              "        [ 5.7744e-01, -8.2520e-01],\n",
              "        [ 2.7744e-01,  1.7480e-01],\n",
              "        [ 2.0244e-01, -5.7520e-01],\n",
              "        [ 5.0244e-01,  4.2480e-01],\n",
              "        [ 3.5244e-01, -7.5195e-02],\n",
              "        [ 5.2441e-02,  9.2480e-01],\n",
              "        [ 7.1191e-02, -1.2695e-02],\n",
              "        [ 3.7119e-01,  9.8730e-01],\n",
              "        [ 5.2119e-01, -5.1270e-01],\n",
              "        [ 2.2119e-01,  4.8730e-01],\n",
              "        [ 2.9619e-01, -7.6270e-01],\n",
              "        [ 5.9619e-01,  2.3730e-01],\n",
              "        [ 4.4619e-01, -2.6270e-01],\n",
              "        [ 1.4619e-01,  7.3730e-01],\n",
              "        [ 1.0869e-01, -6.3770e-01],\n",
              "        [ 4.0869e-01,  3.6230e-01],\n",
              "        [ 5.5869e-01, -1.3770e-01],\n",
              "        [ 2.5869e-01,  8.6230e-01],\n",
              "        [ 1.8369e-01, -3.8770e-01],\n",
              "        [ 4.8369e-01,  6.1230e-01],\n",
              "        [ 3.3369e-01, -8.8770e-01],\n",
              "        [ 3.3691e-02,  1.1230e-01],\n",
              "        [ 2.4316e-02, -4.8145e-01],\n",
              "        [ 3.2432e-01,  5.1855e-01],\n",
              "        [ 4.7432e-01, -9.8145e-01],\n",
              "        [ 1.7432e-01,  1.8555e-02],\n",
              "        [ 2.4932e-01, -7.3145e-01],\n",
              "        [ 5.4932e-01,  2.6855e-01],\n",
              "        [ 3.9932e-01, -2.3145e-01],\n",
              "        [ 9.9316e-02,  7.6855e-01],\n",
              "        [ 1.3682e-01, -8.5645e-01],\n",
              "        [ 4.3682e-01,  1.4355e-01],\n",
              "        [ 5.8682e-01, -3.5645e-01],\n",
              "        [ 2.8682e-01,  6.4355e-01],\n",
              "        [ 2.1182e-01, -1.0645e-01],\n",
              "        [ 5.1182e-01,  8.9355e-01],\n",
              "        [ 3.6182e-01, -6.0645e-01],\n",
              "        [ 6.1816e-02,  3.9355e-01],\n",
              "        [ 4.3066e-02, -5.4395e-01],\n",
              "        [ 3.4307e-01,  4.5605e-01],\n",
              "        [ 4.9307e-01, -4.3945e-02],\n",
              "        [ 1.9307e-01,  9.5605e-01],\n",
              "        [ 2.6807e-01, -2.9395e-01],\n",
              "        [ 5.6807e-01,  7.0605e-01],\n",
              "        [ 4.1807e-01, -7.9395e-01],\n",
              "        [ 1.1807e-01,  2.0605e-01],\n",
              "        [ 8.0566e-02, -1.6895e-01],\n",
              "        [ 3.8057e-01,  8.3105e-01],\n",
              "        [ 5.3057e-01, -6.6895e-01],\n",
              "        [ 2.3057e-01,  3.3105e-01],\n",
              "        [ 1.5557e-01, -9.1895e-01],\n",
              "        [ 4.5557e-01,  8.1055e-02],\n",
              "        [ 3.0557e-01, -4.1895e-01],\n",
              "        [ 5.5664e-03,  5.8105e-01]])"
            ]
          },
          "execution_count": 28,
          "metadata": {},
          "output_type": "execute_result"
        }
      ],
      "source": [
        "input_int_"
      ]
    },
    {
      "cell_type": "code",
      "execution_count": 20,
      "metadata": {
        "colab": {
          "base_uri": "https://localhost:8080/",
          "height": 449
        },
        "id": "l4gxwi51fQxM",
        "outputId": "18ccac3a-90ea-46a4-a5b8-f3f6989740d7",
        "pycharm": {
          "name": "#%%\n"
        }
      },
      "outputs": [
        {
          "data": {
            "image/png": "[encoded data removed]",
            "text/plain": [
              "<Figure size 640x480 with 1 Axes>"
            ]
          },
          "metadata": {},
          "output_type": "display_data"
        }
      ],
      "source": [
        "# Plot the input training points.\n",
        "input_sb_, output_sb_ = pinn.add_spatial_boundary_points()\n",
        "input_tb_, output_tb_ = pinn.add_temporal_boundary_points()\n",
        "input_int_, output_int_ = pinn.add_interior_points()\n",
        "\n",
        "plt.scatter(\n",
        "    input_sb_[:, 1].detach().numpy(),\n",
        "    input_sb_[:, 0].detach().numpy(),\n",
        "    label=\"Boundary Points\")\n",
        "plt.scatter(\n",
        "    input_int_[:, 1].detach().numpy(),\n",
        "    input_int_[:, 0].detach().numpy(),\n",
        "    label=\"Interior Points\")\n",
        "plt.scatter(\n",
        "    input_tb_[:, 1].detach().numpy(),\n",
        "    input_tb_[:, 0].detach().numpy(),\n",
        "    label=\"Initial Points\")\n",
        "\n",
        "plt.xlabel(\"x\")\n",
        "plt.ylabel(\"t\")\n",
        "plt.legend()\n",
        "plt.show()"
      ]
    },
    {
      "cell_type": "markdown",
      "metadata": {
        "id": "SAyqnKQxZTTy"
      },
      "source": [
        "# Training\n",
        "\n",
        "Train your network and ensure your loss is low, and that your predictions are qualitatively similar to the true solution (plots should look similar)."
      ]
    },
    {
      "cell_type": "code",
      "execution_count": null,
      "metadata": {
        "id": "qub-M5jqfQxN",
        "pycharm": {
          "name": "#%%\n"
        }
      },
      "outputs": [],
      "source": [
        "hist = pinn.fit(num_epochs=13, verbose=True)\n",
        "\n",
        "plt.figure(dpi=150)\n",
        "plt.grid(True, which=\"both\", ls=\":\")\n",
        "plt.plot(np.arange(1, len(hist) + 1), hist, label=\"Train Loss\")\n",
        "plt.xscale(\"log\")\n",
        "plt.legend()"
      ]
    },
    {
      "cell_type": "code",
      "execution_count": null,
      "metadata": {
        "id": "3HG9DQM5fQxN",
        "pycharm": {
          "name": "#%%\n"
        }
      },
      "outputs": [],
      "source": [
        "pinn.plot()"
      ]
    }
  ],
  "metadata": {
    "colab": {
      "provenance": []
    },
    "kernelspec": {
      "display_name": "Python 3",
      "language": "python",
      "name": "python3"
    },
    "language_info": {
      "codemirror_mode": {
        "name": "ipython",
        "version": 3
      },
      "file_extension": ".py",
      "mimetype": "text/x-python",
      "name": "python",
      "nbconvert_exporter": "python",
      "pygments_lexer": "ipython3",
      "version": "3.9.15"
    }
  },
  "nbformat": 4,
  "nbformat_minor": 0
}
