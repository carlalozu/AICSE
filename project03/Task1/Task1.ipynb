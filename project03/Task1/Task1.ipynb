{
 "cells": [
  {
   "cell_type": "code",
   "execution_count": null,
   "metadata": {},
   "outputs": [],
   "source": [
    "%load_ext autoreload\n",
    "%autoreload 2"
   ]
  },
  {
   "cell_type": "code",
   "execution_count": null,
   "metadata": {},
   "outputs": [],
   "source": [
    "import torch"
   ]
  },
  {
   "cell_type": "code",
   "execution_count": null,
   "metadata": {},
   "outputs": [],
   "source": [
    "from trainer import Trainer\n",
    "from pendulum import InvertedPendulum"
   ]
  },
  {
   "cell_type": "markdown",
   "metadata": {},
   "source": [
    "# Task 1.1"
   ]
  },
  {
   "cell_type": "markdown",
   "metadata": {},
   "source": [
    "## Parameters\n",
    "Mass of the Cart (M): 1.0 kg\n",
    "\n",
    "Mass of the Pendulum (m): 0.1 kg\n",
    "\n",
    "Length of the Pendulum (l) : 1 m\n"
   ]
  },
  {
   "cell_type": "code",
   "execution_count": null,
   "metadata": {},
   "outputs": [],
   "source": [
    "pend = InvertedPendulum(\n",
    "    mass_cart=1.0,      # M\n",
    "    mass_pendulum=0.1,  # m\n",
    "    length=1.0,         # l\n",
    "    gravity=9.81,       # g\n",
    ")"
   ]
  },
  {
   "cell_type": "markdown",
   "metadata": {},
   "source": [
    "## Initial conditions\n",
    "\n",
    "Initial Angle ($\\theta$): $\\pi/4$ rad\n",
    "\n",
    "Initial Angular Velocity ($\\dot{\\theta}$): 0 rad/s\n",
    "\n",
    "Initial Cart Position ($x$): 0 m\n",
    "\n",
    "Initial Cart Velocity ($\\dot{x}$): 0 m/s\n",
    "\n",
    "Force ($F$): 10 $sin(t)$ "
   ]
  },
  {
   "cell_type": "code",
   "execution_count": null,
   "metadata": {},
   "outputs": [],
   "source": [
    "# initial state\n",
    "x, x_dot = 0, 0\n",
    "theta, theta_dot = torch.pi/4, 0.0\n",
    "initial_state = torch.tensor([x, x_dot, theta, theta_dot])\n",
    "\n",
    "# time parameters\n",
    "steps = 1000\n",
    "t0 = 0\n",
    "tn = 5\n",
    "dt = tn/steps\n",
    "t = torch.linspace(t0, tn, steps)\n",
    "\n",
    "# external force\n",
    "force = 10*torch.sin(t)"
   ]
  },
  {
   "cell_type": "code",
   "execution_count": null,
   "metadata": {},
   "outputs": [],
   "source": [
    "# simulate the system\n",
    "states = pend.rollout(initial_state, force, dt)"
   ]
  },
  {
   "cell_type": "code",
   "execution_count": null,
   "metadata": {},
   "outputs": [],
   "source": [
    "# plot the results\n",
    "fig = pend.plot(states, force, dt)\n",
    "fig.savefig('pendulum.pdf')"
   ]
  },
  {
   "cell_type": "code",
   "execution_count": null,
   "metadata": {},
   "outputs": [],
   "source": [
    "# animation\n",
    "anim = pend.animate(states, dt);\n",
    "anim.save('inverted_pendulum.gif', fps=30)"
   ]
  },
  {
   "cell_type": "markdown",
   "metadata": {},
   "source": [
    "# Task 1.2"
   ]
  },
  {
   "cell_type": "code",
   "execution_count": null,
   "metadata": {},
   "outputs": [],
   "source": [
    "force_trainer = Trainer(pend)"
   ]
  },
  {
   "cell_type": "code",
   "execution_count": null,
   "metadata": {},
   "outputs": [],
   "source": [
    "# train the model\n",
    "epochs = 500\n",
    "hist = force_trainer.train(initial_state, dt, epochs, steps, lr=1e-2, step_size=75, gamma=0.5)"
   ]
  },
  {
   "cell_type": "code",
   "execution_count": null,
   "metadata": {},
   "outputs": [],
   "source": [
    "# plot the loss function\n",
    "fig_loss = force_trainer.plot_loss_function(hist)\n",
    "fig_loss.savefig('loss_function.pdf')"
   ]
  },
  {
   "cell_type": "code",
   "execution_count": null,
   "metadata": {},
   "outputs": [],
   "source": [
    "# test the model\n",
    "test_states, force_nn = force_trainer.test(initial_state, dt, steps)"
   ]
  },
  {
   "cell_type": "code",
   "execution_count": null,
   "metadata": {},
   "outputs": [],
   "source": [
    "fig = pend.plot(test_states, force_nn, dt, line=True)\n",
    "fig.savefig('pendulum_nn.pdf')"
   ]
  },
  {
   "cell_type": "code",
   "execution_count": null,
   "metadata": {},
   "outputs": [],
   "source": [
    "# animation\n",
    "anim_nn = pend.animate(test_states, dt);\n",
    "anim_nn.save('inverted_pendulum_nn.gif', fps=30)"
   ]
  },
  {
   "cell_type": "code",
   "execution_count": null,
   "metadata": {},
   "outputs": [],
   "source": []
  }
 ],
 "metadata": {
  "kernelspec": {
   "display_name": "vision",
   "language": "python",
   "name": "python3"
  },
  "language_info": {
   "codemirror_mode": {
    "name": "ipython",
    "version": 3
   },
   "file_extension": ".py",
   "mimetype": "text/x-python",
   "name": "python",
   "nbconvert_exporter": "python",
   "pygments_lexer": "ipython3",
   "version": "3.8.19"
  }
 },
 "nbformat": 4,
 "nbformat_minor": 2
}
