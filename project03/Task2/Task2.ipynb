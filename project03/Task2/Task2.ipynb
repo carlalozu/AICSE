{
 "cells": [
  {
   "cell_type": "code",
   "execution_count": null,
   "metadata": {},
   "outputs": [],
   "source": [
    "%load_ext autoreload\n",
    "%autoreload 2"
   ]
  },
  {
   "cell_type": "markdown",
   "metadata": {},
   "source": [
    "# Task 2"
   ]
  },
  {
   "cell_type": "code",
   "execution_count": null,
   "metadata": {},
   "outputs": [],
   "source": [
    "from pde_find import PDE_FIND, PDE_FIND_3D"
   ]
  },
  {
   "cell_type": "markdown",
   "metadata": {},
   "source": [
    "### File 1"
   ]
  },
  {
   "cell_type": "code",
   "execution_count": null,
   "metadata": {},
   "outputs": [],
   "source": [
    "dif1 = PDE_FIND('1')"
   ]
  },
  {
   "cell_type": "code",
   "execution_count": null,
   "metadata": {},
   "outputs": [],
   "source": [
    "classify = {\n",
    "    'dep': ['u'],\n",
    "    'indep': ['x', 't'],\n",
    "}\n",
    "dif1.create_list_of_possible_terms(classify, order=3)"
   ]
  },
  {
   "cell_type": "code",
   "execution_count": null,
   "metadata": {},
   "outputs": [],
   "source": [
    "derivatives = dif1.get_derivatives(classify)"
   ]
  },
  {
   "cell_type": "code",
   "execution_count": null,
   "metadata": {},
   "outputs": [],
   "source": [
    "dif1.create_feature_library(classify, derivatives)"
   ]
  },
  {
   "cell_type": "code",
   "execution_count": null,
   "metadata": {},
   "outputs": [],
   "source": [
    "weights = dif1.solve(classify['library'], \n",
    "                     derivatives['u_t'].squeeze(),\n",
    "                     sparsity_threshold=1e-2,\n",
    "                     alphas=[1e-6, 1e-5],\n",
    "                     fit_intercept=False,\n",
    "                     cv=3,\n",
    "                     tol=1e-6,\n",
    "                     max_iter=int(1e8))"
   ]
  },
  {
   "cell_type": "code",
   "execution_count": null,
   "metadata": {},
   "outputs": [],
   "source": [
    "result = dif1.test(classify, weights)"
   ]
  },
  {
   "cell_type": "code",
   "execution_count": null,
   "metadata": {},
   "outputs": [],
   "source": [
    "fig = dif1.plot(derivatives['u_t'].squeeze(), 'u_t')\n",
    "# save the figure\n",
    "fig.savefig('figures/data_1.png')"
   ]
  },
  {
   "cell_type": "code",
   "execution_count": null,
   "metadata": {},
   "outputs": [],
   "source": [
    "fig = dif1.plot_results(derivatives['u_t'].squeeze(), result.squeeze(), 'u')\n",
    "# save the figure\n",
    "fig.savefig('figures/results_1.png')"
   ]
  },
  {
   "cell_type": "markdown",
   "metadata": {},
   "source": [
    "### File 2"
   ]
  },
  {
   "cell_type": "code",
   "execution_count": null,
   "metadata": {},
   "outputs": [],
   "source": [
    "dif2 = PDE_FIND('2')"
   ]
  },
  {
   "cell_type": "code",
   "execution_count": null,
   "metadata": {},
   "outputs": [],
   "source": [
    "classify = {\n",
    "    'dep': ['u'],\n",
    "    'indep': ['x', 't'],\n",
    "}\n",
    "dif2.create_list_of_possible_terms(classify)"
   ]
  },
  {
   "cell_type": "code",
   "execution_count": null,
   "metadata": {},
   "outputs": [],
   "source": [
    "derivatives = dif2.get_derivatives(classify, periodic=True)"
   ]
  },
  {
   "cell_type": "code",
   "execution_count": null,
   "metadata": {},
   "outputs": [],
   "source": [
    "fig = dif2.plot(derivatives['u_t'].squeeze(), 'u_t')\n",
    "# save the figure\n",
    "fig.savefig('figures/data_2.png')"
   ]
  },
  {
   "cell_type": "code",
   "execution_count": null,
   "metadata": {},
   "outputs": [],
   "source": [
    "dif2.create_feature_library(classify, derivatives)"
   ]
  },
  {
   "cell_type": "code",
   "execution_count": null,
   "metadata": {},
   "outputs": [],
   "source": [
    "alphas = [1e-6, 1e-4, 1e-2]\n",
    "weights = dif2.solve(classify['library'], \n",
    "                     derivatives['u_t'].squeeze(),\n",
    "                     sparsity_threshold=1e-2,\n",
    "                     alphas=alphas,\n",
    "                     fit_intercept=False,\n",
    "                     cv=3,\n",
    "                     tol=1e-6,\n",
    "                     max_iter=int(1e8))"
   ]
  },
  {
   "cell_type": "code",
   "execution_count": null,
   "metadata": {},
   "outputs": [],
   "source": [
    "result = dif2.test(classify, weights)"
   ]
  },
  {
   "cell_type": "code",
   "execution_count": null,
   "metadata": {},
   "outputs": [],
   "source": [
    "fig = dif2.plot_results(derivatives['u_t'].squeeze(), result.squeeze(), 'u')\n",
    "# save the figure\n",
    "fig.savefig('figures/results_2.png')"
   ]
  },
  {
   "cell_type": "markdown",
   "metadata": {},
   "source": [
    "### File 3"
   ]
  },
  {
   "cell_type": "code",
   "execution_count": null,
   "metadata": {},
   "outputs": [],
   "source": [
    "dif3 = PDE_FIND_3D('3')"
   ]
  },
  {
   "cell_type": "code",
   "execution_count": null,
   "metadata": {},
   "outputs": [],
   "source": [
    "# anim_u = dif3.animate(0)\n",
    "# # Takes around 1 min 40 secs to save\n",
    "# anim_u.save('eq3_u.gif', fps=30)}"
   ]
  },
  {
   "cell_type": "code",
   "execution_count": null,
   "metadata": {},
   "outputs": [],
   "source": [
    "# anim_v = dif3.animate(1)\n",
    "# anim_v.save('eq3_v.gif', fps=30)"
   ]
  },
  {
   "cell_type": "code",
   "execution_count": null,
   "metadata": {},
   "outputs": [],
   "source": [
    "classify = {\n",
    "    'dep': ['u', 'v'],\n",
    "    'indep': ['x', 'y', 't'],\n",
    "}"
   ]
  },
  {
   "cell_type": "code",
   "execution_count": null,
   "metadata": {},
   "outputs": [],
   "source": [
    "dif3.create_list_of_possible_terms(classify, max_terms=1, order=3)"
   ]
  },
  {
   "cell_type": "code",
   "execution_count": null,
   "metadata": {},
   "outputs": [],
   "source": [
    "derivatives = dif3.get_derivatives(classify, periodic=True)"
   ]
  },
  {
   "cell_type": "code",
   "execution_count": null,
   "metadata": {},
   "outputs": [],
   "source": [
    "dif3.subsample_data(derivatives, percent=0.1)"
   ]
  },
  {
   "cell_type": "code",
   "execution_count": null,
   "metadata": {},
   "outputs": [],
   "source": [
    "components = dif3.create_feature_library(classify, derivatives)"
   ]
  },
  {
   "cell_type": "code",
   "execution_count": null,
   "metadata": {},
   "outputs": [],
   "source": [
    "# I had to reduce the max_iter to 1e3 to get it to solve\n",
    "# in a reasonable amount of time\n",
    "weights_u = dif3.solve(\n",
    "    classify['library'],\n",
    "    derivatives['u_t'].squeeze(),\n",
    "    sparsity_threshold = 0.01,\n",
    "    cv=3,\n",
    "    fit_intercept=False,\n",
    "    alphas=[1e-3, 1e-4, 1e-2],\n",
    "    tol=1e-6,\n",
    "    max_iter=int(1e6),\n",
    ")"
   ]
  },
  {
   "cell_type": "code",
   "execution_count": null,
   "metadata": {},
   "outputs": [],
   "source": [
    "weights_v = dif3.solve(\n",
    "    classify['library'],\n",
    "    derivatives['v_t'].squeeze(),\n",
    "    sparsity_threshold = 0.01,\n",
    "    alphas=[1e-4, 1e-2, 1e-3],\n",
    "    fit_intercept=False,\n",
    "    cv=3,\n",
    "    tol=1e-6,\n",
    "    max_iter=int(1e6)\n",
    ")"
   ]
  },
  {
   "cell_type": "code",
   "execution_count": null,
   "metadata": {},
   "outputs": [],
   "source": [
    "result_u = dif3.test(classify, weights_u)"
   ]
  },
  {
   "cell_type": "code",
   "execution_count": null,
   "metadata": {},
   "outputs": [],
   "source": [
    "result_v = dif3.test(classify, weights_v, name='v')"
   ]
  },
  {
   "cell_type": "code",
   "execution_count": null,
   "metadata": {},
   "outputs": [],
   "source": [
    "fig = dif3.plot(derivatives['u_t'].squeeze(), 'u_t', idx=10)\n",
    "# save the figure\n",
    "fig.savefig('figures/data_u_3.png')"
   ]
  },
  {
   "cell_type": "code",
   "execution_count": null,
   "metadata": {},
   "outputs": [],
   "source": [
    "fig = dif3.plot(derivatives['v_t'].squeeze(), 'v_t', idx=10)\n",
    "# save the figure\n",
    "fig.savefig('figures/data_v_3.png')"
   ]
  },
  {
   "cell_type": "code",
   "execution_count": null,
   "metadata": {},
   "outputs": [],
   "source": [
    "fig = dif3.plot_results(\n",
    "    derivatives['u_t'].squeeze()[:,:,10],\n",
    "    result_u.squeeze()[:,:,10],\n",
    "    'u'\n",
    ")\n",
    "# save the figure\n",
    "fig.savefig('figures/results_u_3.png')"
   ]
  },
  {
   "cell_type": "code",
   "execution_count": null,
   "metadata": {},
   "outputs": [],
   "source": [
    "fig = dif3.plot_results(\n",
    "    derivatives['v_t'].squeeze()[:,:,10],\n",
    "    result_v.squeeze()[:,:,10],\n",
    "    'v'\n",
    ")\n",
    "# save the figure\n",
    "fig.savefig('figures/results_v_3.png')"
   ]
  }
 ],
 "metadata": {
  "kernelspec": {
   "display_name": "vision",
   "language": "python",
   "name": "python3"
  },
  "language_info": {
   "codemirror_mode": {
    "name": "ipython",
    "version": 3
   },
   "file_extension": ".py",
   "mimetype": "text/x-python",
   "name": "python",
   "nbconvert_exporter": "python",
   "pygments_lexer": "ipython3",
   "version": "3.9.19"
  }
 },
 "nbformat": 4,
 "nbformat_minor": 2
}
