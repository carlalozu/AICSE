{
  "cells": [
    {
      "cell_type": "code",
      "execution_count": null,
      "metadata": {},
      "outputs": [],
      "source": [
        "%load_ext autoreload\n",
        "%autoreload 2"
      ]
    },
    {
      "cell_type": "code",
      "execution_count": null,
      "metadata": {
        "id": "-dFB-dqncmmt"
      },
      "outputs": [],
      "source": [
        "from trainer import Trainer"
      ]
    },
    {
      "cell_type": "code",
      "execution_count": null,
      "metadata": {},
      "outputs": [],
      "source": [
        "import matplotlib.pyplot as plt"
      ]
    },
    {
      "cell_type": "code",
      "execution_count": null,
      "metadata": {},
      "outputs": [],
      "source": [
        "modes = 18\n",
        "width = 64\n",
        "batch_size = 10\n",
        "window_length = 34\n",
        "trainer = Trainer(\n",
        "    modes=modes,\n",
        "    width=width,\n",
        "    batch_size=batch_size,\n",
        "    window_length=window_length\n",
        ")"
      ]
    },
    {
      "cell_type": "code",
      "execution_count": null,
      "metadata": {},
      "outputs": [],
      "source": [
        "trainer.plot_inputs()"
      ]
    },
    {
      "cell_type": "markdown",
      "metadata": {
        "id": "kU2FY0t007F0"
      },
      "source": [
        "## Training\n"
      ]
    },
    {
      "cell_type": "code",
      "execution_count": null,
      "metadata": {
        "id": "Cg6kdfQ8accA"
      },
      "outputs": [],
      "source": [
        "learning_rate = 0.001\n",
        "epochs = 500\n",
        "step_size = 50\n",
        "gamma = 0.5"
      ]
    },
    {
      "cell_type": "code",
      "execution_count": null,
      "metadata": {},
      "outputs": [],
      "source": [
        "hist = trainer.train(\n",
        "    learning_rate=learning_rate,\n",
        "    epochs=epochs,\n",
        "    step_size=step_size,\n",
        "    gamma=gamma\n",
        ")"
      ]
    },
    {
      "cell_type": "code",
      "execution_count": null,
      "metadata": {},
      "outputs": [],
      "source": [
        "trainer.plot_loss_function(hist)"
      ]
    },
    {
      "cell_type": "markdown",
      "metadata": {
        "id": "LYZSt07Q1Rnw"
      },
      "source": [
        "## Plot\n"
      ]
    },
    {
      "cell_type": "code",
      "execution_count": null,
      "metadata": {},
      "outputs": [],
      "source": [
        "trainer.plot(-1)"
      ]
    },
    {
      "cell_type": "code",
      "execution_count": null,
      "metadata": {},
      "outputs": [],
      "source": []
    }
  ],
  "metadata": {
    "colab": {
      "provenance": []
    },
    "kernelspec": {
      "display_name": "Python 3",
      "name": "python3"
    },
    "language_info": {
      "codemirror_mode": {
        "name": "ipython",
        "version": 3
      },
      "file_extension": ".py",
      "mimetype": "text/x-python",
      "name": "python",
      "nbconvert_exporter": "python",
      "pygments_lexer": "ipython3",
      "version": "3.9.15"
    }
  },
  "nbformat": 4,
  "nbformat_minor": 0
}
